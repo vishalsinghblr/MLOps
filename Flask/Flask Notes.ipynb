{
  "nbformat": 4,
  "nbformat_minor": 0,
  "metadata": {
    "colab": {
      "provenance": []
    },
    "kernelspec": {
      "name": "python3",
      "display_name": "Python 3"
    },
    "language_info": {
      "name": "python"
    }
  },
  "cells": [
    {
      "cell_type": "markdown",
      "source": [
        "#### Flask"
      ],
      "metadata": {
        "id": "QR0UEJ9hWdjS"
      }
    },
    {
      "cell_type": "markdown",
      "source": [
        "##### 1. Launch a Web App using Flask"
      ],
      "metadata": {
        "id": "ETrF2xSAVcz7"
      }
    },
    {
      "cell_type": "code",
      "source": [
        "from flask import Flask\n",
        "'''\n",
        " It creates an instance of the Flask class,\n",
        " which will be your WSGI (Web Server Gateway Interface) application.\n",
        "'''\n",
        "###WSGI Application\n",
        "app=Flask(__name__)\n",
        "\n",
        "@app.route(\"/\")\n",
        "def welcome():\n",
        "    return \"Welcome to this best Flask course.This should be an amazing course\"\n",
        "\n",
        "@app.route(\"/index\")\n",
        "def index():\n",
        "    return \"Welcome to the index page\"\n",
        "\n",
        "if __name__==\"__main__\":\n",
        "    app.run(debug=True)"
      ],
      "metadata": {
        "colab": {
          "base_uri": "https://localhost:8080/",
          "height": 0
        },
        "id": "OdtOgxGwVI7d",
        "outputId": "267e6061-9ab4-4c29-b0c5-e5eb51d672d2"
      },
      "execution_count": 8,
      "outputs": [
        {
          "output_type": "stream",
          "name": "stdout",
          "text": [
            " * Serving Flask app '__main__'\n",
            " * Debug mode: on\n"
          ]
        },
        {
          "output_type": "stream",
          "name": "stderr",
          "text": [
            "INFO:werkzeug:\u001b[31m\u001b[1mWARNING: This is a development server. Do not use it in a production deployment. Use a production WSGI server instead.\u001b[0m\n",
            " * Running on http://127.0.0.1:5000\n",
            "INFO:werkzeug:\u001b[33mPress CTRL+C to quit\u001b[0m\n",
            "INFO:werkzeug: * Restarting with stat\n"
          ]
        }
      ]
    },
    {
      "cell_type": "markdown",
      "source": [
        "##### 2. Render Template"
      ],
      "metadata": {
        "id": "2PQpLtlXVuh-"
      }
    },
    {
      "cell_type": "code",
      "source": [
        "from flask import Flask,render_template\n",
        "'''\n",
        " It creates an instance of the Flask class,\n",
        " which will be your WSGI (Web Server Gateway Interface) application.\n",
        "'''\n",
        "###WSGI Application\n",
        "app=Flask(__name__)\n",
        "\n",
        "@app.route(\"/\")\n",
        "def welcome():\n",
        "    return \"<html><H1>Welcome to the flask course</H1></html>\"\n",
        "\n",
        "@app.route(\"/index\")\n",
        "def index():\n",
        "    return render_template('index.html')\n",
        "\n",
        "@app.route('/about')\n",
        "def about():\n",
        "    return render_template('about.html')\n",
        "\n",
        "if __name__==\"__main__\":\n",
        "    app.run(debug=True)"
      ],
      "metadata": {
        "colab": {
          "base_uri": "https://localhost:8080/",
          "height": 0
        },
        "id": "M0RWyAJ5Xu3E",
        "outputId": "64d2a51c-5f60-4478-bccd-fb902eef87ae"
      },
      "execution_count": 9,
      "outputs": [
        {
          "output_type": "stream",
          "name": "stdout",
          "text": [
            " * Serving Flask app '__main__'\n",
            " * Debug mode: on\n"
          ]
        },
        {
          "output_type": "stream",
          "name": "stderr",
          "text": [
            "INFO:werkzeug:\u001b[31m\u001b[1mWARNING: This is a development server. Do not use it in a production deployment. Use a production WSGI server instead.\u001b[0m\n",
            " * Running on http://127.0.0.1:5000\n",
            "INFO:werkzeug:\u001b[33mPress CTRL+C to quit\u001b[0m\n",
            "INFO:werkzeug: * Restarting with stat\n"
          ]
        }
      ]
    },
    {
      "cell_type": "markdown",
      "source": [
        "index.html"
      ],
      "metadata": {
        "id": "C_jwJDyZbJ3R"
      }
    },
    {
      "cell_type": "markdown",
      "source": [
        "```\n",
        "<!DOCTYPE html>\n",
        "<html lang=\"en\">\n",
        "<head>\n",
        "    <meta charset=\"UTF-8\">\n",
        "    <title>Flask App</title>\n",
        "</head>\n",
        "<body>\n",
        "    <h1>Welcome to My Flask App!</h1>\n",
        "    <p>This is a simple web application built with Flask.</p>\n",
        "</body>\n",
        "</html>\n",
        "```"
      ],
      "metadata": {
        "id": "wRbMdf8vbXv4"
      }
    },
    {
      "cell_type": "markdown",
      "source": [
        "about.html"
      ],
      "metadata": {
        "id": "Rx00gQP9cv81"
      }
    },
    {
      "cell_type": "markdown",
      "source": [
        "```\n",
        "<!DOCTYPE html>\n",
        "<html lang=\"en\">\n",
        "<head>\n",
        "    <meta charset=\"UTF-8\">\n",
        "    <title>About</title>\n",
        "</head>\n",
        "<body>\n",
        "    <h1>About</h1>\n",
        "    <p>This is the about page of my Flask app.</p>\n",
        "</body>\n",
        "</html>\n",
        "```"
      ],
      "metadata": {
        "id": "kFSvzxMXcx_D"
      }
    },
    {
      "cell_type": "markdown",
      "source": [
        "##### 3. GET and POST Requests"
      ],
      "metadata": {
        "id": "9a1nO10RX7fN"
      }
    },
    {
      "cell_type": "code",
      "source": [
        "from flask import Flask,render_template,request\n",
        "'''\n",
        " It creates an instance of the Flask class,\n",
        " which will be your WSGI (Web Server Gateway Interface) application.\n",
        "'''\n",
        "###WSGI Application\n",
        "app=Flask(__name__)\n",
        "\n",
        "@app.route(\"/\")\n",
        "def welcome():\n",
        "    return \"<html><H1>Welcome to the flask course</H1></html>\"\n",
        "\n",
        "@app.route(\"/index\",methods=['GET'])\n",
        "def index():\n",
        "    return render_template('index.html')\n",
        "\n",
        "@app.route('/about')\n",
        "def about():\n",
        "    return render_template('about.html')\n",
        "\n",
        "@app.route('/form',methods=['GET','POST'])\n",
        "def form():\n",
        "    if request.method=='POST':\n",
        "        name=request.form['name']\n",
        "        return f'Hello {name}!'\n",
        "    return render_template('form.html')\n",
        "\n",
        "@app.route('/submit',methods=['GET','POST'])\n",
        "def submit():\n",
        "    if request.method=='POST':\n",
        "        name=request.form['name']\n",
        "        return f'Hello {name}!'\n",
        "    return render_template('form.html')\n",
        "\n",
        "\n",
        "if __name__==\"__main__\":\n",
        "    app.run(debug=True)"
      ],
      "metadata": {
        "colab": {
          "base_uri": "https://localhost:8080/",
          "height": 0
        },
        "id": "MH5MPV-fVZ1-",
        "outputId": "cd906fb6-1785-42eb-d33f-d40a6380a998"
      },
      "execution_count": 10,
      "outputs": [
        {
          "output_type": "stream",
          "name": "stdout",
          "text": [
            " * Serving Flask app '__main__'\n",
            " * Debug mode: on\n"
          ]
        },
        {
          "output_type": "stream",
          "name": "stderr",
          "text": [
            "INFO:werkzeug:\u001b[31m\u001b[1mWARNING: This is a development server. Do not use it in a production deployment. Use a production WSGI server instead.\u001b[0m\n",
            " * Running on http://127.0.0.1:5000\n",
            "INFO:werkzeug:\u001b[33mPress CTRL+C to quit\u001b[0m\n",
            "INFO:werkzeug: * Restarting with stat\n"
          ]
        }
      ]
    },
    {
      "cell_type": "markdown",
      "source": [
        "form.html\n",
        "\n",
        "\n",
        "```\n",
        "<!DOCTYPE html>\n",
        "<html lang=\"en\">\n",
        "<head>\n",
        "    <meta charset=\"UTF-8\">\n",
        "    <title>Form</title>\n",
        "    <link rel=\"stylesheet\" href=\"{{ url_for('static',filename='css/style.css') }}\">\n",
        "</head>\n",
        "<body>\n",
        "    <h1>Submit a Form</h1>\n",
        "    <form action=\"/submit\" method=\"post\">\n",
        "        <label for=\"name\">Name:</label>\n",
        "        <input type=\"text\" id=\"name\" name=\"name\">\n",
        "        <input type=\"submit\" value=\"Submit\">\n",
        "    </form>\n",
        "</body>\n",
        "</html>\n",
        "```\n",
        "\n"
      ],
      "metadata": {
        "id": "ZOzpLfB8dChP"
      }
    },
    {
      "cell_type": "markdown",
      "source": [
        "##### 4. Jinja 2 Template Engine"
      ],
      "metadata": {
        "id": "GRs-Nq-nXN7j"
      }
    },
    {
      "cell_type": "code",
      "source": [
        "### Building Url Dynamically\n",
        "## Variable Rule\n",
        "### Jinja 2 Template Engine\n",
        "\n",
        "### Jinja2 Template Engine\n",
        "'''\n",
        "{{  }} expressions to print output in html\n",
        "{%...%} conditions, for loops\n",
        "{#...#} this is for comments\n",
        "'''\n",
        "\n",
        "from flask import Flask,render_template,request,redirect,url_for\n",
        "'''\n",
        " It creates an instance of the Flask class,\n",
        " which will be your WSGI (Web Server Gateway Interface) application.\n",
        "'''\n",
        "###WSGI Application\n",
        "app=Flask(__name__)\n",
        "\n",
        "@app.route(\"/\")\n",
        "def welcome():\n",
        "    return \"<html><H1>Welcome to the flask course</H1></html>\"\n",
        "\n",
        "@app.route(\"/index\",methods=['GET'])\n",
        "def index():\n",
        "    return render_template('index.html')\n",
        "\n",
        "@app.route('/about')\n",
        "def about():\n",
        "    return render_template('about.html')\n",
        "\n",
        "## Variable Rule\n",
        "@app.route('/success/<int:score>')\n",
        "def success(score):\n",
        "    res=\"\"\n",
        "    if score>=50:\n",
        "        res=\"PASSED\"\n",
        "    else:\n",
        "        res=\"FAILED\"\n",
        "\n",
        "    return render_template('result.html',results=res)\n",
        "\n",
        "## Variable Rule\n",
        "@app.route('/successres/<int:score>')\n",
        "def successres(score):\n",
        "    res=\"\"\n",
        "    if score>=50:\n",
        "        res=\"PASSED\"\n",
        "    else:\n",
        "        res=\"FAILED\"\n",
        "\n",
        "    exp={'score':score,\"res\":res}\n",
        "\n",
        "    return render_template('result1.html',results=exp)\n",
        "\n",
        "## if confition\n",
        "@app.route('/sucessif/<int:score>')\n",
        "def successif(score):\n",
        "\n",
        "    return render_template('result.html',results=score)\n",
        "\n",
        "@app.route('/fail/<int:score>')\n",
        "def fail(score):\n",
        "    return render_template('result.html',results=score)\n",
        "\n",
        "@app.route('/submit',methods=['POST','GET'])\n",
        "def submit():\n",
        "    total_score=0\n",
        "    if request.method=='POST':\n",
        "        science=float(request.form['science'])\n",
        "        maths=float(request.form['maths'])\n",
        "        c=float(request.form['c'])\n",
        "        data_science=float(request.form['datascience'])\n",
        "\n",
        "        total_score=(science+maths+c+data_science)/4\n",
        "    else:\n",
        "        return render_template('getresult.html')\n",
        "    return redirect(url_for('successres',score=total_score))\n",
        "\n",
        "if __name__==\"__main__\":\n",
        "    app.run(debug=True)"
      ],
      "metadata": {
        "colab": {
          "base_uri": "https://localhost:8080/",
          "height": 0
        },
        "id": "MvGUZ4ukWZSK",
        "outputId": "57ed3dea-39f2-4fad-b056-be750ee5dc15"
      },
      "execution_count": 11,
      "outputs": [
        {
          "output_type": "stream",
          "name": "stdout",
          "text": [
            " * Serving Flask app '__main__'\n",
            " * Debug mode: on\n"
          ]
        },
        {
          "output_type": "stream",
          "name": "stderr",
          "text": [
            "INFO:werkzeug:\u001b[31m\u001b[1mWARNING: This is a development server. Do not use it in a production deployment. Use a production WSGI server instead.\u001b[0m\n",
            " * Running on http://127.0.0.1:5000\n",
            "INFO:werkzeug:\u001b[33mPress CTRL+C to quit\u001b[0m\n",
            "INFO:werkzeug: * Restarting with stat\n"
          ]
        }
      ]
    },
    {
      "cell_type": "markdown",
      "source": [
        "result.html\n",
        "\n",
        "```\n",
        "<h1>\n",
        "\n",
        "  Based on the marks You have  {{ results }}\n",
        "\n",
        "  {% if results>=50 %}\n",
        "  <h1>You have passed with marks {{results}}</h1>\n",
        "  {% else %}\n",
        "  <h2>You have failed with marks {{results}} </h2>\n",
        "  {% endif %}\n",
        "\n",
        "</h1>\n",
        "```"
      ],
      "metadata": {
        "id": "heZRgpt8dVbm"
      }
    },
    {
      "cell_type": "markdown",
      "source": [
        "result1.html\n",
        "\n",
        "```\n",
        "<html>\n",
        "<h2>\n",
        "    Final Results\n",
        "</h2>\n",
        "<body>\n",
        "   \n",
        "     {% for key,value in results.items()   %}\n",
        "     \n",
        "      {# This is the comment section #}\n",
        "      <h1>{{ key }}<h1>\n",
        "      <h2>{{ value }}</h2>\n",
        "    \n",
        "     {% endfor %}\n",
        "    \n",
        "</body>\n",
        "</html>\n",
        "```"
      ],
      "metadata": {
        "id": "2gWISLvheA1b"
      }
    },
    {
      "cell_type": "markdown",
      "source": [
        "getresult.html\n",
        "\n",
        "```\n",
        "<!DOCTYPE html>\n",
        "<html>\n",
        "<head>\n",
        "<link rel=\"stylesheet\" href=\"{{ url_for('static',filename='css/style.css') }}\">\n",
        "<script type=\"text/javascript\" src=\"{{ url_for('static',filename='script/script.js') }}\">\n",
        "  \n",
        "</script>\n",
        "\n",
        "</head>\n",
        "<body>\n",
        "\n",
        "<h2>HTML Forms</h2>\n",
        "\n",
        "<form action=\"/submit\" method='post'>\n",
        "  <label for=\"Science\">Science:</label><br>\n",
        "  <input type=\"text\" id=\"science\" name=\"science\" value=\"0\"><br>\n",
        "  <label for=\"Maths\">Maths:</label><br>\n",
        "  <input type=\"text\" id=\"maths\" name=\"maths\" value=\"0\"><br><br>\n",
        "  <label for=\"C \">C:</label><br>\n",
        "  <input type=\"text\" id=\"c\" name=\"c\" value=\"0\"><br><br>\n",
        "  <label for=\"datascience\">Data Science:</label><br>\n",
        "  <input type=\"text\" id=\"datascience\" name=\"datascience\" value=\"0\"><br><br>\n",
        "  <input type=\"submit\" value=\"Submit\">\n",
        "</form>\n",
        "\n",
        "<p>If you click the \"Submit\" button, the form-data will be sent to a page called \"/submit\".</p>\n",
        "\n",
        "</body>\n",
        "</html>\n",
        "```\n",
        "\n"
      ],
      "metadata": {
        "id": "gW4WyAIfdmHk"
      }
    },
    {
      "cell_type": "markdown",
      "source": [
        "##### 5. PUT and DELETE Requests"
      ],
      "metadata": {
        "id": "rCoT8qQvXltU"
      }
    },
    {
      "cell_type": "code",
      "execution_count": 12,
      "metadata": {
        "colab": {
          "base_uri": "https://localhost:8080/",
          "height": 0
        },
        "id": "gMONf3XnUwrH",
        "outputId": "b81383fb-cb1d-40f3-9729-0b9fcdd90094"
      },
      "outputs": [
        {
          "output_type": "stream",
          "name": "stdout",
          "text": [
            " * Serving Flask app '__main__'\n",
            " * Debug mode: on\n"
          ]
        },
        {
          "output_type": "stream",
          "name": "stderr",
          "text": [
            "INFO:werkzeug:\u001b[31m\u001b[1mWARNING: This is a development server. Do not use it in a production deployment. Use a production WSGI server instead.\u001b[0m\n",
            " * Running on http://127.0.0.1:5000\n",
            "INFO:werkzeug:\u001b[33mPress CTRL+C to quit\u001b[0m\n",
            "INFO:werkzeug: * Restarting with stat\n"
          ]
        }
      ],
      "source": [
        "### Put and Delete-HTTP Verbs\n",
        "### Working With API's--Json\n",
        "\n",
        "from flask import Flask, jsonify, request\n",
        "\n",
        "app = Flask(__name__)\n",
        "\n",
        "##Initial Data in my to do list\n",
        "items = [\n",
        "    {\"id\": 1, \"name\": \"Item 1\", \"description\": \"This is item 1\"},\n",
        "    {\"id\": 2, \"name\": \"Item 2\", \"description\": \"This is item 2\"}\n",
        "]\n",
        "\n",
        "@app.route('/')\n",
        "def home():\n",
        "    return \"Welcome To The Sample To DO List App\"\n",
        "\n",
        "## Get: Retrieve all the items\n",
        "\n",
        "@app.route('/items',methods=['GET'])\n",
        "def get_items():\n",
        "    return jsonify(items)\n",
        "\n",
        "## get: Retireve a specific item by Id\n",
        "@app.route('/items/<int:item_id>',methods=['GET'])\n",
        "def get_item(item_id):\n",
        "    item=next((item for item in items if item[\"id\"]==item_id),None)\n",
        "    if item is None:\n",
        "        return jsonify({\"error\":\"item not found\"})\n",
        "    return jsonify(item)\n",
        "\n",
        "## Post :create a new task- API\n",
        "@app.route('/items',methods=['POST'])\n",
        "def create_item():\n",
        "    if not request.json or not 'name' in request.json:\n",
        "        return jsonify({\"error\":\"item not found\"})\n",
        "    new_item={\n",
        "        \"id\": items[-1][\"id\"] + 1 if items else 1,\n",
        "        \"name\":request.json['name'],\n",
        "        \"description\":request.json[\"description\"]\n",
        "    }\n",
        "    items.append(new_item)\n",
        "    return jsonify(new_item)\n",
        "\n",
        "# Put: Update an existing item\n",
        "@app.route('/items/<int:item_id>',methods=['PUT'])\n",
        "def update_item(item_id):\n",
        "    item = next((item for item in items if item[\"id\"] == item_id), None)\n",
        "    if item is None:\n",
        "        return jsonify({\"error\": \"Item not found\"})\n",
        "    item['name'] = request.json.get('name', item['name'])\n",
        "    item['description'] = request.json.get('description', item['description'])\n",
        "    return jsonify(item)\n",
        "\n",
        "# DELETE: Delete an item\n",
        "@app.route('/items/<int:item_id>', methods=['DELETE'])\n",
        "def delete_item(item_id):\n",
        "    global items\n",
        "    items = [item for item in items if item[\"id\"] != item_id]\n",
        "    return jsonify({\"result\": \"Item deleted\"})\n",
        "\n",
        "if __name__ == '__main__':\n",
        "    app.run(debug=True)\n"
      ]
    },
    {
      "cell_type": "markdown",
      "source": [
        "sample.json\n",
        "\n",
        "```\n",
        "{\"name\": \"New Item\", \"description\": \"This is a new item\"}\n",
        "\n",
        "{\"name\": \"Updated Item\", \"description\": \"This item has been updated\"}\n",
        "```\n"
      ],
      "metadata": {
        "id": "nbXSDaZoehhi"
      }
    }
  ]
}